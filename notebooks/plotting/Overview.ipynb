{
 "cells": [
  {
   "cell_type": "code",
   "execution_count": 1,
   "metadata": {},
   "outputs": [
    {
     "name": "stdout",
     "output_type": "stream",
     "text": [
      "D:\\Code\\Datajoint\\orofacial_pipeline\n"
     ]
    }
   ],
   "source": [
    "cd ../.."
   ]
  },
  {
   "cell_type": "code",
   "execution_count": 2,
   "metadata": {},
   "outputs": [],
   "source": [
    "import numpy as np\n",
    "import matplotlib.pyplot as plt"
   ]
  },
  {
   "cell_type": "code",
   "execution_count": 3,
   "metadata": {},
   "outputs": [
    {
     "name": "stdout",
     "output_type": "stream",
     "text": [
      "Connecting vincent@datajoint-db.orofacial-sensorimotor-circuits.org:3306\n"
     ]
    }
   ],
   "source": [
    "from pipeline import lab, experiment, ephys, tracking"
   ]
  },
  {
   "cell_type": "markdown",
   "metadata": {},
   "source": [
    "# Overview plot\n",
    "\n",
    "### An overall summary plot of behavior, tracking, and spiking activity for a particular session"
   ]
  },
  {
   "cell_type": "code",
   "execution_count": 4,
   "metadata": {},
   "outputs": [],
   "source": [
    "session_key = {'subject_id': 'vIRt47', 'session': 20}"
   ]
  },
  {
   "cell_type": "code",
   "execution_count": 5,
   "metadata": {},
   "outputs": [
    {
     "data": {
      "text/html": [
       "\n",
       "        \n",
       "        <style type=\"text/css\">\n",
       "            .Relation{\n",
       "                border-collapse:collapse;\n",
       "            }\n",
       "            .Relation th{\n",
       "                background: #A0A0A0; color: #ffffff; padding:4px; border:#f0e0e0 1px solid;\n",
       "                font-weight: normal; font-family: monospace; font-size: 100%;\n",
       "            }\n",
       "            .Relation td{\n",
       "                padding:4px; border:#f0e0e0 1px solid; font-size:100%;\n",
       "            }\n",
       "            .Relation tr:nth-child(odd){\n",
       "                background: #ffffff;\n",
       "            }\n",
       "            .Relation tr:nth-child(even){\n",
       "                background: #f3f1ff;\n",
       "            }\n",
       "            /* Tooltip container */\n",
       "            .djtooltip {\n",
       "            }\n",
       "            /* Tooltip text */\n",
       "            .djtooltip .djtooltiptext {\n",
       "                visibility: hidden;\n",
       "                width: 120px;\n",
       "                background-color: black;\n",
       "                color: #fff;\n",
       "                text-align: center;\n",
       "                padding: 5px 0;\n",
       "                border-radius: 6px;\n",
       "                /* Position the tooltip text - see examples below! */\n",
       "                position: absolute;\n",
       "                z-index: 1;\n",
       "            }\n",
       "            #primary {\n",
       "                font-weight: bold;\n",
       "                color: black;\n",
       "            }\n",
       "\n",
       "            #nonprimary {\n",
       "                font-weight: normal;\n",
       "                color: white;\n",
       "            }\n",
       "\n",
       "            /* Show the tooltip text when you mouse over the tooltip container */\n",
       "            .djtooltip:hover .djtooltiptext {\n",
       "                visibility: visible;\n",
       "            }\n",
       "        </style>\n",
       "        \n",
       "        <b></b>\n",
       "            <div style=\"max-height:1000px;max-width:1500px;overflow:auto;\">\n",
       "            <table border=\"1\" class=\"Relation\">\n",
       "                <thead> <tr style=\"text-align: right;\"> <th> <div class=\"djtooltip\">\n",
       "                                <p id=\"primary\">subject_id</p>\n",
       "                                <span class=\"djtooltiptext\"></span>\n",
       "                            </div></th><th><div class=\"djtooltip\">\n",
       "                                <p id=\"primary\">session</p>\n",
       "                                <span class=\"djtooltiptext\">session number</span>\n",
       "                            </div></th><th><div class=\"djtooltip\">\n",
       "                                <p id=\"nonprimary\">session_date</p>\n",
       "                                <span class=\"djtooltiptext\"></span>\n",
       "                            </div></th><th><div class=\"djtooltip\">\n",
       "                                <p id=\"nonprimary\">session_time</p>\n",
       "                                <span class=\"djtooltiptext\">computer time for t=0. This is the start of the data acquisition from the master device (typically with the highest sampling rate, e.g., ephys acquisition device)</span>\n",
       "                            </div></th><th><div class=\"djtooltip\">\n",
       "                                <p id=\"nonprimary\">session_basename</p>\n",
       "                                <span class=\"djtooltiptext\"></span>\n",
       "                            </div></th><th><div class=\"djtooltip\">\n",
       "                                <p id=\"nonprimary\">username</p>\n",
       "                                <span class=\"djtooltiptext\"></span>\n",
       "                            </div></th><th><div class=\"djtooltip\">\n",
       "                                <p id=\"nonprimary\">rig</p>\n",
       "                                <span class=\"djtooltiptext\"></span>\n",
       "                            </div> </th> </tr> </thead>\n",
       "                <tbody> <tr> <td>vIRt47</td>\n",
       "<td>20</td>\n",
       "<td>2020-08-05</td>\n",
       "<td>13:52:38</td>\n",
       "<td>vIRt47_0805_5744</td>\n",
       "<td>vincent</td>\n",
       "<td>vincent_ephys_335</td> </tr> </tbody>\n",
       "            </table>\n",
       "            \n",
       "            <p>Total: 1</p></div>\n",
       "            "
      ],
      "text/plain": [
       "*subject_id    *session    session_date   session_time   session_basena username     rig           \n",
       "+------------+ +---------+ +------------+ +------------+ +------------+ +----------+ +------------+\n",
       "vIRt47         20          2020-08-05     13:52:38       vIRt47_0805_57 vincent      vincent_ephys_\n",
       " (Total: 1)"
      ]
     },
     "execution_count": 5,
     "metadata": {},
     "output_type": "execute_result"
    }
   ],
   "source": [
    "experiment.Session & session_key"
   ]
  },
  {
   "cell_type": "code",
   "execution_count": 6,
   "metadata": {},
   "outputs": [
    {
     "data": {
      "text/html": [
       "\n",
       "        \n",
       "        <style type=\"text/css\">\n",
       "            .Relation{\n",
       "                border-collapse:collapse;\n",
       "            }\n",
       "            .Relation th{\n",
       "                background: #A0A0A0; color: #ffffff; padding:4px; border:#f0e0e0 1px solid;\n",
       "                font-weight: normal; font-family: monospace; font-size: 100%;\n",
       "            }\n",
       "            .Relation td{\n",
       "                padding:4px; border:#f0e0e0 1px solid; font-size:100%;\n",
       "            }\n",
       "            .Relation tr:nth-child(odd){\n",
       "                background: #ffffff;\n",
       "            }\n",
       "            .Relation tr:nth-child(even){\n",
       "                background: #f3f1ff;\n",
       "            }\n",
       "            /* Tooltip container */\n",
       "            .djtooltip {\n",
       "            }\n",
       "            /* Tooltip text */\n",
       "            .djtooltip .djtooltiptext {\n",
       "                visibility: hidden;\n",
       "                width: 120px;\n",
       "                background-color: black;\n",
       "                color: #fff;\n",
       "                text-align: center;\n",
       "                padding: 5px 0;\n",
       "                border-radius: 6px;\n",
       "                /* Position the tooltip text - see examples below! */\n",
       "                position: absolute;\n",
       "                z-index: 1;\n",
       "            }\n",
       "            #primary {\n",
       "                font-weight: bold;\n",
       "                color: black;\n",
       "            }\n",
       "\n",
       "            #nonprimary {\n",
       "                font-weight: normal;\n",
       "                color: white;\n",
       "            }\n",
       "\n",
       "            /* Show the tooltip text when you mouse over the tooltip container */\n",
       "            .djtooltip:hover .djtooltiptext {\n",
       "                visibility: visible;\n",
       "            }\n",
       "        </style>\n",
       "        \n",
       "        <b></b>\n",
       "            <div style=\"max-height:1000px;max-width:1500px;overflow:auto;\">\n",
       "            <table border=\"1\" class=\"Relation\">\n",
       "                <thead> <tr style=\"text-align: right;\"> <th> <div class=\"djtooltip\">\n",
       "                                <p id=\"primary\">subject_id</p>\n",
       "                                <span class=\"djtooltiptext\"></span>\n",
       "                            </div></th><th><div class=\"djtooltip\">\n",
       "                                <p id=\"primary\">session</p>\n",
       "                                <span class=\"djtooltiptext\">session number</span>\n",
       "                            </div></th><th><div class=\"djtooltip\">\n",
       "                                <p id=\"primary\">trial</p>\n",
       "                                <span class=\"djtooltiptext\">trial number (1-based indexing)</span>\n",
       "                            </div></th><th><div class=\"djtooltip\">\n",
       "                                <p id=\"nonprimary\">task</p>\n",
       "                                <span class=\"djtooltiptext\">task type</span>\n",
       "                            </div></th><th><div class=\"djtooltip\">\n",
       "                                <p id=\"nonprimary\">task_protocol</p>\n",
       "                                <span class=\"djtooltiptext\">task protocol</span>\n",
       "                            </div> </th> </tr> </thead>\n",
       "                <tbody> <tr>  </tr> </tbody>\n",
       "            </table>\n",
       "            \n",
       "            <p>Total: 0</p></div>\n",
       "            "
      ],
      "text/plain": [
       "*subject_id    *session    *trial    task     task_protocol \n",
       "+------------+ +---------+ +-------+ +------+ +------------+\n",
       "\n",
       " (Total: 0)"
      ]
     },
     "execution_count": 6,
     "metadata": {},
     "output_type": "execute_result"
    }
   ],
   "source": [
    "experiment.BehaviorTrial & session_key"
   ]
  },
  {
   "cell_type": "markdown",
   "metadata": {},
   "source": [
    "## Extract whisker tracking data"
   ]
  },
  {
   "cell_type": "code",
   "execution_count": 7,
   "metadata": {},
   "outputs": [
    {
     "data": {
      "text/html": [
       "\n",
       "        \n",
       "        <style type=\"text/css\">\n",
       "            .Relation{\n",
       "                border-collapse:collapse;\n",
       "            }\n",
       "            .Relation th{\n",
       "                background: #A0A0A0; color: #ffffff; padding:4px; border:#f0e0e0 1px solid;\n",
       "                font-weight: normal; font-family: monospace; font-size: 100%;\n",
       "            }\n",
       "            .Relation td{\n",
       "                padding:4px; border:#f0e0e0 1px solid; font-size:100%;\n",
       "            }\n",
       "            .Relation tr:nth-child(odd){\n",
       "                background: #ffffff;\n",
       "            }\n",
       "            .Relation tr:nth-child(even){\n",
       "                background: #f3f1ff;\n",
       "            }\n",
       "            /* Tooltip container */\n",
       "            .djtooltip {\n",
       "            }\n",
       "            /* Tooltip text */\n",
       "            .djtooltip .djtooltiptext {\n",
       "                visibility: hidden;\n",
       "                width: 120px;\n",
       "                background-color: black;\n",
       "                color: #fff;\n",
       "                text-align: center;\n",
       "                padding: 5px 0;\n",
       "                border-radius: 6px;\n",
       "                /* Position the tooltip text - see examples below! */\n",
       "                position: absolute;\n",
       "                z-index: 1;\n",
       "            }\n",
       "            #primary {\n",
       "                font-weight: bold;\n",
       "                color: black;\n",
       "            }\n",
       "\n",
       "            #nonprimary {\n",
       "                font-weight: normal;\n",
       "                color: white;\n",
       "            }\n",
       "\n",
       "            /* Show the tooltip text when you mouse over the tooltip container */\n",
       "            .djtooltip:hover .djtooltiptext {\n",
       "                visibility: visible;\n",
       "            }\n",
       "        </style>\n",
       "        \n",
       "        <b></b>\n",
       "            <div style=\"max-height:1000px;max-width:1500px;overflow:auto;\">\n",
       "            <table border=\"1\" class=\"Relation\">\n",
       "                <thead> <tr style=\"text-align: right;\"> <th> <div class=\"djtooltip\">\n",
       "                                <p id=\"primary\">subject_id</p>\n",
       "                                <span class=\"djtooltiptext\"></span>\n",
       "                            </div></th><th><div class=\"djtooltip\">\n",
       "                                <p id=\"primary\">session</p>\n",
       "                                <span class=\"djtooltiptext\">session number</span>\n",
       "                            </div></th><th><div class=\"djtooltip\">\n",
       "                                <p id=\"primary\">tracking_device</p>\n",
       "                                <span class=\"djtooltiptext\">device type/function</span>\n",
       "                            </div></th><th><div class=\"djtooltip\">\n",
       "                                <p id=\"primary\">whisker_idx</p>\n",
       "                                <span class=\"djtooltiptext\">0, 1, 2</span>\n",
       "                            </div></th><th><div class=\"djtooltip\">\n",
       "                                <p id=\"nonprimary\">angle</p>\n",
       "                                <span class=\"djtooltiptext\">mean angle at follicle</span>\n",
       "                            </div></th><th><div class=\"djtooltip\">\n",
       "                                <p id=\"nonprimary\">curvature</p>\n",
       "                                <span class=\"djtooltiptext\">mean curvature (1/mm)</span>\n",
       "                            </div></th><th><div class=\"djtooltip\">\n",
       "                                <p id=\"nonprimary\">face_x</p>\n",
       "                                <span class=\"djtooltiptext\">approximate center of whisker pad, x (px)</span>\n",
       "                            </div></th><th><div class=\"djtooltip\">\n",
       "                                <p id=\"nonprimary\">face_y</p>\n",
       "                                <span class=\"djtooltiptext\">approximate center of whisker pad, y (px)</span>\n",
       "                            </div></th><th><div class=\"djtooltip\">\n",
       "                                <p id=\"nonprimary\">follicle_x</p>\n",
       "                                <span class=\"djtooltiptext\">follicle position: x (px)</span>\n",
       "                            </div></th><th><div class=\"djtooltip\">\n",
       "                                <p id=\"nonprimary\">follicle_y</p>\n",
       "                                <span class=\"djtooltiptext\">follicle position: y (px)</span>\n",
       "                            </div></th><th><div class=\"djtooltip\">\n",
       "                                <p id=\"nonprimary\">tip_x</p>\n",
       "                                <span class=\"djtooltiptext\">tip position: x (px)</span>\n",
       "                            </div></th><th><div class=\"djtooltip\">\n",
       "                                <p id=\"nonprimary\">tip_y</p>\n",
       "                                <span class=\"djtooltiptext\">tip position: y (px)</span>\n",
       "                            </div> </th> </tr> </thead>\n",
       "                <tbody> <tr> <td>vIRt47</td>\n",
       "<td>20</td>\n",
       "<td>WT_Camera_Vincent 0</td>\n",
       "<td>0</td>\n",
       "<td>=BLOB=</td>\n",
       "<td>=BLOB=</td>\n",
       "<td>=BLOB=</td>\n",
       "<td>=BLOB=</td>\n",
       "<td>=BLOB=</td>\n",
       "<td>=BLOB=</td>\n",
       "<td>=BLOB=</td>\n",
       "<td>=BLOB=</td></tr><tr><td>vIRt47</td>\n",
       "<td>20</td>\n",
       "<td>WT_Camera_Vincent 0</td>\n",
       "<td>1</td>\n",
       "<td>=BLOB=</td>\n",
       "<td>=BLOB=</td>\n",
       "<td>=BLOB=</td>\n",
       "<td>=BLOB=</td>\n",
       "<td>=BLOB=</td>\n",
       "<td>=BLOB=</td>\n",
       "<td>=BLOB=</td>\n",
       "<td>=BLOB=</td></tr><tr><td>vIRt47</td>\n",
       "<td>20</td>\n",
       "<td>WT_Camera_Vincent 0</td>\n",
       "<td>2</td>\n",
       "<td>=BLOB=</td>\n",
       "<td>=BLOB=</td>\n",
       "<td>=BLOB=</td>\n",
       "<td>=BLOB=</td>\n",
       "<td>=BLOB=</td>\n",
       "<td>=BLOB=</td>\n",
       "<td>=BLOB=</td>\n",
       "<td>=BLOB=</td> </tr> </tbody>\n",
       "            </table>\n",
       "            \n",
       "            <p>Total: 3</p></div>\n",
       "            "
      ],
      "text/plain": [
       "*subject_id    *session    *tracking_devi *whisker_idx   angle      curvature  face_x     face_y     follicle_x follicle_y tip_x      tip_y     \n",
       "+------------+ +---------+ +------------+ +------------+ +--------+ +--------+ +--------+ +--------+ +--------+ +--------+ +--------+ +--------+\n",
       "vIRt47         20          WT_Camera_Vinc 0              =BLOB=     =BLOB=     =BLOB=     =BLOB=     =BLOB=     =BLOB=     =BLOB=     =BLOB=    \n",
       "vIRt47         20          WT_Camera_Vinc 1              =BLOB=     =BLOB=     =BLOB=     =BLOB=     =BLOB=     =BLOB=     =BLOB=     =BLOB=    \n",
       "vIRt47         20          WT_Camera_Vinc 2              =BLOB=     =BLOB=     =BLOB=     =BLOB=     =BLOB=     =BLOB=     =BLOB=     =BLOB=    \n",
       " (Total: 3)"
      ]
     },
     "execution_count": 7,
     "metadata": {},
     "output_type": "execute_result"
    }
   ],
   "source": [
    "tracking.Tracking.WhiskerTracking & session_key"
   ]
  },
  {
   "cell_type": "code",
   "execution_count": 8,
   "metadata": {},
   "outputs": [],
   "source": [
    "device_key = {'tracking_device': 'WT_Camera_Vincent 0'}"
   ]
  },
  {
   "cell_type": "code",
   "execution_count": 9,
   "metadata": {},
   "outputs": [],
   "source": [
    "tracking_timestamps = (tracking.Tracking & session_key & device_key).fetch1('tracking_timestamps')"
   ]
  },
  {
   "cell_type": "code",
   "execution_count": 10,
   "metadata": {},
   "outputs": [
    {
     "data": {
      "text/plain": [
       "array([   5.82490015,    5.82590015,    5.82690015, ..., 1454.78590015,\n",
       "       1454.78690015, 1454.78790015])"
      ]
     },
     "execution_count": 10,
     "metadata": {},
     "output_type": "execute_result"
    }
   ],
   "source": [
    "tracking_timestamps"
   ]
  },
  {
   "cell_type": "code",
   "execution_count": 11,
   "metadata": {},
   "outputs": [],
   "source": [
    "whiskers, whisker_angles = (tracking.Tracking.WhiskerTracking & session_key & device_key).fetch(\n",
    "    'whisker_idx', 'angle', order_by='whisker_idx')"
   ]
  },
  {
   "cell_type": "code",
   "execution_count": 12,
   "metadata": {},
   "outputs": [
    {
     "data": {
      "text/plain": [
       "array([0, 1, 2], dtype=int64)"
      ]
     },
     "execution_count": 12,
     "metadata": {},
     "output_type": "execute_result"
    }
   ],
   "source": [
    "whiskers"
   ]
  },
  {
   "cell_type": "code",
   "execution_count": 13,
   "metadata": {},
   "outputs": [
    {
     "data": {
      "text/plain": [
       "array([array([-111.70805565, -110.45121536, -109.18448839, ..., -137.34187554,\n",
       "       -137.32554315, -137.31165214]),\n",
       "       array([-101.08147179, -100.27671476,  -99.48490388, ..., -130.2681879 ,\n",
       "       -130.26209308, -130.25752372]),\n",
       "       array([ -98.94571638,  -98.13076038,  -97.30648407, ..., -125.5577779 ,\n",
       "       -125.5613677 , -125.56433748])], dtype=object)"
      ]
     },
     "execution_count": 13,
     "metadata": {},
     "output_type": "execute_result"
    }
   ],
   "source": [
    "whisker_angles"
   ]
  },
  {
   "cell_type": "code",
   "execution_count": 14,
   "metadata": {},
   "outputs": [
    {
     "data": {
      "text/plain": [
       "[<matplotlib.lines.Line2D at 0x207645462e8>]"
      ]
     },
     "execution_count": 14,
     "metadata": {},
     "output_type": "execute_result"
    },
    {
     "data": {
      "image/png": "[encoded data removed]",
      "text/plain": [
       "<Figure size 432x288 with 1 Axes>"
      ]
     },
     "metadata": {
      "needs_background": "light"
     },
     "output_type": "display_data"
    }
   ],
   "source": [
    "plt.plot(whisker_angles[1])"
   ]
  },
  {
   "cell_type": "code",
   "execution_count": 15,
   "metadata": {},
   "outputs": [],
   "source": [
    "whisker_phase = (tracking.ProcessedWhisker & session_key & device_key).fetch(\n",
    "    'phase', order_by='whisker_idx')"
   ]
  },
  {
   "cell_type": "code",
   "execution_count": 16,
   "metadata": {},
   "outputs": [
    {
     "data": {
      "text/plain": [
       "[<matplotlib.lines.Line2D at 0x20764260320>]"
      ]
     },
     "execution_count": 16,
     "metadata": {},
     "output_type": "execute_result"
    },
    {
     "data": {
      "image/png": "[encoded data removed]",
      "text/plain": [
       "<Figure size 432x288 with 1 Axes>"
      ]
     },
     "metadata": {
      "needs_background": "light"
     },
     "output_type": "display_data"
    }
   ],
   "source": [
    "plt.plot(whisker_phase[1])"
   ]
  },
  {
   "cell_type": "markdown",
   "metadata": {},
   "source": [
    "## Extract units' spiketimes"
   ]
  },
  {
   "cell_type": "code",
   "execution_count": 17,
   "metadata": {},
   "outputs": [
    {
     "data": {
      "text/html": [
       "\n",
       "        \n",
       "        <style type=\"text/css\">\n",
       "            .Relation{\n",
       "                border-collapse:collapse;\n",
       "            }\n",
       "            .Relation th{\n",
       "                background: #A0A0A0; color: #ffffff; padding:4px; border:#f0e0e0 1px solid;\n",
       "                font-weight: normal; font-family: monospace; font-size: 100%;\n",
       "            }\n",
       "            .Relation td{\n",
       "                padding:4px; border:#f0e0e0 1px solid; font-size:100%;\n",
       "            }\n",
       "            .Relation tr:nth-child(odd){\n",
       "                background: #ffffff;\n",
       "            }\n",
       "            .Relation tr:nth-child(even){\n",
       "                background: #f3f1ff;\n",
       "            }\n",
       "            /* Tooltip container */\n",
       "            .djtooltip {\n",
       "            }\n",
       "            /* Tooltip text */\n",
       "            .djtooltip .djtooltiptext {\n",
       "                visibility: hidden;\n",
       "                width: 120px;\n",
       "                background-color: black;\n",
       "                color: #fff;\n",
       "                text-align: center;\n",
       "                padding: 5px 0;\n",
       "                border-radius: 6px;\n",
       "                /* Position the tooltip text - see examples below! */\n",
       "                position: absolute;\n",
       "                z-index: 1;\n",
       "            }\n",
       "            #primary {\n",
       "                font-weight: bold;\n",
       "                color: black;\n",
       "            }\n",
       "\n",
       "            #nonprimary {\n",
       "                font-weight: normal;\n",
       "                color: white;\n",
       "            }\n",
       "\n",
       "            /* Show the tooltip text when you mouse over the tooltip container */\n",
       "            .djtooltip:hover .djtooltiptext {\n",
       "                visibility: visible;\n",
       "            }\n",
       "        </style>\n",
       "        \n",
       "        <b>Sorted unit</b>\n",
       "            <div style=\"max-height:1000px;max-width:1500px;overflow:auto;\">\n",
       "            <table border=\"1\" class=\"Relation\">\n",
       "                <thead> <tr style=\"text-align: right;\"> <th> <div class=\"djtooltip\">\n",
       "                                <p id=\"primary\">subject_id</p>\n",
       "                                <span class=\"djtooltiptext\"></span>\n",
       "                            </div></th><th><div class=\"djtooltip\">\n",
       "                                <p id=\"primary\">session</p>\n",
       "                                <span class=\"djtooltiptext\">session number</span>\n",
       "                            </div></th><th><div class=\"djtooltip\">\n",
       "                                <p id=\"primary\">insertion_number</p>\n",
       "                                <span class=\"djtooltiptext\"></span>\n",
       "                            </div></th><th><div class=\"djtooltip\">\n",
       "                                <p id=\"primary\">clustering_method</p>\n",
       "                                <span class=\"djtooltiptext\"></span>\n",
       "                            </div></th><th><div class=\"djtooltip\">\n",
       "                                <p id=\"primary\">unit</p>\n",
       "                                <span class=\"djtooltiptext\"></span>\n",
       "                            </div></th><th><div class=\"djtooltip\">\n",
       "                                <p id=\"nonprimary\">unit_quality</p>\n",
       "                                <span class=\"djtooltiptext\"></span>\n",
       "                            </div></th><th><div class=\"djtooltip\">\n",
       "                                <p id=\"nonprimary\">probe_type</p>\n",
       "                                <span class=\"djtooltiptext\">e.g. neuropixels_1.0</span>\n",
       "                            </div></th><th><div class=\"djtooltip\">\n",
       "                                <p id=\"nonprimary\">electrode_config_name</p>\n",
       "                                <span class=\"djtooltiptext\">user friendly name</span>\n",
       "                            </div></th><th><div class=\"djtooltip\">\n",
       "                                <p id=\"nonprimary\">electrode_group</p>\n",
       "                                <span class=\"djtooltiptext\">electrode group</span>\n",
       "                            </div></th><th><div class=\"djtooltip\">\n",
       "                                <p id=\"nonprimary\">electrode</p>\n",
       "                                <span class=\"djtooltiptext\">electrode index, starts at 1</span>\n",
       "                            </div></th><th><div class=\"djtooltip\">\n",
       "                                <p id=\"nonprimary\">unit_posx</p>\n",
       "                                <span class=\"djtooltiptext\">(um) estimated x position of the unit relative to probe's tip (0,0)</span>\n",
       "                            </div></th><th><div class=\"djtooltip\">\n",
       "                                <p id=\"nonprimary\">unit_posy</p>\n",
       "                                <span class=\"djtooltiptext\">(um) estimated y position of the unit relative to probe's tip (0,0)</span>\n",
       "                            </div></th><th><div class=\"djtooltip\">\n",
       "                                <p id=\"nonprimary\">spike_times</p>\n",
       "                                <span class=\"djtooltiptext\">(s) from the start of the first data point used in clustering</span>\n",
       "                            </div></th><th><div class=\"djtooltip\">\n",
       "                                <p id=\"nonprimary\">spike_sites</p>\n",
       "                                <span class=\"djtooltiptext\">array of electrode associated with each spike</span>\n",
       "                            </div></th><th><div class=\"djtooltip\">\n",
       "                                <p id=\"nonprimary\">spike_depths</p>\n",
       "                                <span class=\"djtooltiptext\">(um) array of depths associated with each spike</span>\n",
       "                            </div></th><th><div class=\"djtooltip\">\n",
       "                                <p id=\"nonprimary\">unit_amp</p>\n",
       "                                <span class=\"djtooltiptext\"></span>\n",
       "                            </div></th><th><div class=\"djtooltip\">\n",
       "                                <p id=\"nonprimary\">unit_snr</p>\n",
       "                                <span class=\"djtooltiptext\"></span>\n",
       "                            </div> </th> </tr> </thead>\n",
       "                <tbody> <tr> <td>vIRt49</td>\n",
       "<td>1</td>\n",
       "<td>0</td>\n",
       "<td>jrclust_v4</td>\n",
       "<td>1</td>\n",
       "<td>all</td>\n",
       "<td>CNT ASSY-37 P2</td>\n",
       "<td>CNT ASSY-37 P2 - chn: 1-32</td>\n",
       "<td>0</td>\n",
       "<td>1</td>\n",
       "<td>1.3361542224884033</td>\n",
       "<td>2.7669739723205566</td>\n",
       "<td>=BLOB=</td>\n",
       "<td>=BLOB=</td>\n",
       "<td>=BLOB=</td>\n",
       "<td>282.38644</td>\n",
       "<td>nan</td></tr><tr><td>vIRt49</td>\n",
       "<td>1</td>\n",
       "<td>0</td>\n",
       "<td>jrclust_v4</td>\n",
       "<td>2</td>\n",
       "<td>all</td>\n",
       "<td>CNT ASSY-37 P2</td>\n",
       "<td>CNT ASSY-37 P2 - chn: 1-32</td>\n",
       "<td>0</td>\n",
       "<td>2</td>\n",
       "<td>17.200834274291992</td>\n",
       "<td>14.647157669067383</td>\n",
       "<td>=BLOB=</td>\n",
       "<td>=BLOB=</td>\n",
       "<td>=BLOB=</td>\n",
       "<td>211.8829</td>\n",
       "<td>nan</td></tr><tr><td>vIRt49</td>\n",
       "<td>1</td>\n",
       "<td>0</td>\n",
       "<td>jrclust_v4</td>\n",
       "<td>3</td>\n",
       "<td>all</td>\n",
       "<td>CNT ASSY-37 P2</td>\n",
       "<td>CNT ASSY-37 P2 - chn: 1-32</td>\n",
       "<td>0</td>\n",
       "<td>2</td>\n",
       "<td>17.93284797668457</td>\n",
       "<td>16.78452491760254</td>\n",
       "<td>=BLOB=</td>\n",
       "<td>=BLOB=</td>\n",
       "<td>=BLOB=</td>\n",
       "<td>136.88995</td>\n",
       "<td>nan</td></tr><tr><td>vIRt49</td>\n",
       "<td>1</td>\n",
       "<td>0</td>\n",
       "<td>jrclust_v4</td>\n",
       "<td>4</td>\n",
       "<td>all</td>\n",
       "<td>CNT ASSY-37 P2</td>\n",
       "<td>CNT ASSY-37 P2 - chn: 1-32</td>\n",
       "<td>0</td>\n",
       "<td>2</td>\n",
       "<td>13.520949363708496</td>\n",
       "<td>17.735334396362305</td>\n",
       "<td>=BLOB=</td>\n",
       "<td>=BLOB=</td>\n",
       "<td>=BLOB=</td>\n",
       "<td>159.24747</td>\n",
       "<td>nan</td></tr><tr><td>vIRt49</td>\n",
       "<td>1</td>\n",
       "<td>0</td>\n",
       "<td>jrclust_v4</td>\n",
       "<td>5</td>\n",
       "<td>all</td>\n",
       "<td>CNT ASSY-37 P2</td>\n",
       "<td>CNT ASSY-37 P2 - chn: 1-32</td>\n",
       "<td>0</td>\n",
       "<td>4</td>\n",
       "<td>21.204940795898438</td>\n",
       "<td>31.722515106201172</td>\n",
       "<td>=BLOB=</td>\n",
       "<td>=BLOB=</td>\n",
       "<td>=BLOB=</td>\n",
       "<td>135.57997</td>\n",
       "<td>nan</td></tr><tr><td>vIRt49</td>\n",
       "<td>1</td>\n",
       "<td>0</td>\n",
       "<td>jrclust_v4</td>\n",
       "<td>6</td>\n",
       "<td>all</td>\n",
       "<td>CNT ASSY-37 P2</td>\n",
       "<td>CNT ASSY-37 P2 - chn: 1-32</td>\n",
       "<td>0</td>\n",
       "<td>5</td>\n",
       "<td>1.3157755136489868</td>\n",
       "<td>47.70310592651367</td>\n",
       "<td>=BLOB=</td>\n",
       "<td>=BLOB=</td>\n",
       "<td>=BLOB=</td>\n",
       "<td>121.28857</td>\n",
       "<td>nan</td></tr><tr><td>vIRt49</td>\n",
       "<td>1</td>\n",
       "<td>0</td>\n",
       "<td>jrclust_v4</td>\n",
       "<td>7</td>\n",
       "<td>all</td>\n",
       "<td>CNT ASSY-37 P2</td>\n",
       "<td>CNT ASSY-37 P2 - chn: 1-32</td>\n",
       "<td>0</td>\n",
       "<td>5</td>\n",
       "<td>6.527263164520264</td>\n",
       "<td>50.14341354370117</td>\n",
       "<td>=BLOB=</td>\n",
       "<td>=BLOB=</td>\n",
       "<td>=BLOB=</td>\n",
       "<td>415.30737</td>\n",
       "<td>nan</td> </tr> </tbody>\n",
       "            </table>\n",
       "            <p>...</p>\n",
       "            <p>Total: 73</p></div>\n",
       "            "
      ],
      "text/plain": [
       "*subject_id    *session    *insertion_num *clustering_me *unit    unit_quality   probe_type     electrode_conf electrode_grou electrode     unit_posx      unit_posy      spike_time spike_site spike_dept unit_amp      unit_snr    \n",
       "+------------+ +---------+ +------------+ +------------+ +------+ +------------+ +------------+ +------------+ +------------+ +-----------+ +------------+ +------------+ +--------+ +--------+ +--------+ +-----------+ +----------+\n",
       "vIRt49         1           0              jrclust_v4     1        all            CNT ASSY-37 P2 CNT ASSY-37 P2 0              1             1.336154222488 2.766973972320 =BLOB=     =BLOB=     =BLOB=     282.38644     nan         \n",
       "vIRt49         1           0              jrclust_v4     2        all            CNT ASSY-37 P2 CNT ASSY-37 P2 0              2             17.20083427429 14.64715766906 =BLOB=     =BLOB=     =BLOB=     211.8829      nan         \n",
       "vIRt49         1           0              jrclust_v4     3        all            CNT ASSY-37 P2 CNT ASSY-37 P2 0              2             17.93284797668 16.78452491760 =BLOB=     =BLOB=     =BLOB=     136.88995     nan         \n",
       "vIRt49         1           0              jrclust_v4     4        all            CNT ASSY-37 P2 CNT ASSY-37 P2 0              2             13.52094936370 17.73533439636 =BLOB=     =BLOB=     =BLOB=     159.24747     nan         \n",
       "vIRt49         1           0              jrclust_v4     5        all            CNT ASSY-37 P2 CNT ASSY-37 P2 0              4             21.20494079589 31.72251510620 =BLOB=     =BLOB=     =BLOB=     135.57997     nan         \n",
       "vIRt49         1           0              jrclust_v4     6        all            CNT ASSY-37 P2 CNT ASSY-37 P2 0              5             1.315775513648 47.70310592651 =BLOB=     =BLOB=     =BLOB=     121.28857     nan         \n",
       "vIRt49         1           0              jrclust_v4     7        all            CNT ASSY-37 P2 CNT ASSY-37 P2 0              5             6.527263164520 50.14341354370 =BLOB=     =BLOB=     =BLOB=     415.30737     nan         \n",
       "   ...\n",
       " (Total: 73)"
      ]
     },
     "execution_count": 17,
     "metadata": {},
     "output_type": "execute_result"
    }
   ],
   "source": [
    "ephys.Unit & session_key"
   ]
  },
  {
   "cell_type": "code",
   "execution_count": 18,
   "metadata": {},
   "outputs": [],
   "source": [
    "insertion_keys = (ephys.ProbeInsertion & session_key).fetch('KEY')"
   ]
  },
  {
   "cell_type": "code",
   "execution_count": 19,
   "metadata": {},
   "outputs": [
    {
     "data": {
      "text/plain": [
       "[{'subject_id': 'vIRt49', 'session': 1, 'insertion_number': 0}]"
      ]
     },
     "execution_count": 19,
     "metadata": {},
     "output_type": "execute_result"
    }
   ],
   "source": [
    "insertion_keys"
   ]
  },
  {
   "cell_type": "code",
   "execution_count": 67,
   "metadata": {},
   "outputs": [],
   "source": [
    "spike_rasters = {}\n",
    "for insertion_key in insertion_keys:\n",
    "    units, spikes = (ephys.Unit & insertion_key).fetch('unit', 'spike_times')\n",
    "    \n",
    "    # concatenating spiketimes from all units into a 1d-vector\n",
    "    spike_vec = np.concatenate(spikes)  \n",
    "    \n",
    "    # build a 1d-vector of equal length, representing the corresponding unit number for each spike in the \"spike_vec\"\n",
    "    unit_vec = np.concatenate([[t] * len(s) for s, t in zip(spikes, unit)])\n",
    "    \n",
    "    # store in the \"spike_rasters\" with the insertion_number as key\n",
    "    spike_rasters[insertion_key['insertion_number']] = {'spike_vec': spike_vec, 'unit_vec': unit_vec}"
   ]
  },
  {
   "cell_type": "code",
   "execution_count": 68,
   "metadata": {},
   "outputs": [
    {
     "data": {
      "text/plain": [
       "{0: {'spike_vec': array([6.69333333e-02, 8.71000000e-02, 1.04700000e-01, ...,\n",
       "         4.72146767e+02, 4.72349433e+02, 4.72388167e+02]),\n",
       "  'unit_vec': array([ 1,  1,  1, ..., 73, 73, 73], dtype=int64)}}"
      ]
     },
     "execution_count": 68,
     "metadata": {},
     "output_type": "execute_result"
    }
   ],
   "source": [
    "spike_rasters"
   ]
  },
  {
   "cell_type": "markdown",
   "metadata": {},
   "source": [
    "## PLOT"
   ]
  },
  {
   "cell_type": "code",
   "execution_count": 69,
   "metadata": {},
   "outputs": [
    {
     "data": {
      "image/png": "[encoded data removed]",
      "text/plain": [
       "<Figure size 1152x576 with 2 Axes>"
      ]
     },
     "metadata": {
      "needs_background": "light"
     },
     "output_type": "display_data"
    }
   ],
   "source": [
    "fig, axes = plt.subplots(len(spike_rasters) + 1, 1, figsize=(16, 8))\n",
    "\n",
    "# plot whisker angle in the first subplot\n",
    "axes[0].plot(tracking_timestamps, whisker_angles[0])\n",
    "\n",
    "# plot spike raster in the remaining subplots, one per probe\n",
    "for insertion_num, ax in zip(spike_rasters, axes[1:]):\n",
    "    ax.plot(spike_rasters[insertion_num]['spike_vec'], spike_rasters[insertion_num]['unit_vec'], 'k|')"
   ]
  },
  {
   "cell_type": "markdown",
   "metadata": {},
   "source": [
    "## Example segmentation by trial"
   ]
  },
  {
   "cell_type": "code",
   "execution_count": 41,
   "metadata": {},
   "outputs": [
    {
     "data": {
      "text/html": [
       "\n",
       "        \n",
       "        <style type=\"text/css\">\n",
       "            .Relation{\n",
       "                border-collapse:collapse;\n",
       "            }\n",
       "            .Relation th{\n",
       "                background: #A0A0A0; color: #ffffff; padding:4px; border:#f0e0e0 1px solid;\n",
       "                font-weight: normal; font-family: monospace; font-size: 100%;\n",
       "            }\n",
       "            .Relation td{\n",
       "                padding:4px; border:#f0e0e0 1px solid; font-size:100%;\n",
       "            }\n",
       "            .Relation tr:nth-child(odd){\n",
       "                background: #ffffff;\n",
       "            }\n",
       "            .Relation tr:nth-child(even){\n",
       "                background: #f3f1ff;\n",
       "            }\n",
       "            /* Tooltip container */\n",
       "            .djtooltip {\n",
       "            }\n",
       "            /* Tooltip text */\n",
       "            .djtooltip .djtooltiptext {\n",
       "                visibility: hidden;\n",
       "                width: 120px;\n",
       "                background-color: black;\n",
       "                color: #fff;\n",
       "                text-align: center;\n",
       "                padding: 5px 0;\n",
       "                border-radius: 6px;\n",
       "                /* Position the tooltip text - see examples below! */\n",
       "                position: absolute;\n",
       "                z-index: 1;\n",
       "            }\n",
       "            #primary {\n",
       "                font-weight: bold;\n",
       "                color: black;\n",
       "            }\n",
       "\n",
       "            #nonprimary {\n",
       "                font-weight: normal;\n",
       "                color: white;\n",
       "            }\n",
       "\n",
       "            /* Show the tooltip text when you mouse over the tooltip container */\n",
       "            .djtooltip:hover .djtooltiptext {\n",
       "                visibility: visible;\n",
       "            }\n",
       "        </style>\n",
       "        \n",
       "        \n",
       "            <div style=\"max-height:1000px;max-width:1500px;overflow:auto;\">\n",
       "            <table border=\"1\" class=\"Relation\">\n",
       "                <thead> <tr style=\"text-align: right;\"> <th> <div class=\"djtooltip\">\n",
       "                                <p id=\"primary\">subject_id</p>\n",
       "                                <span class=\"djtooltiptext\"></span>\n",
       "                            </div></th><th><div class=\"djtooltip\">\n",
       "                                <p id=\"primary\">session</p>\n",
       "                                <span class=\"djtooltiptext\">session number</span>\n",
       "                            </div></th><th><div class=\"djtooltip\">\n",
       "                                <p id=\"primary\">trial</p>\n",
       "                                <span class=\"djtooltiptext\">trial number (1-based indexing)</span>\n",
       "                            </div></th><th><div class=\"djtooltip\">\n",
       "                                <p id=\"nonprimary\">task</p>\n",
       "                                <span class=\"djtooltiptext\">task type</span>\n",
       "                            </div></th><th><div class=\"djtooltip\">\n",
       "                                <p id=\"nonprimary\">task_protocol</p>\n",
       "                                <span class=\"djtooltiptext\">task protocol</span>\n",
       "                            </div></th><th><div class=\"djtooltip\">\n",
       "                                <p id=\"nonprimary\">start_time</p>\n",
       "                                <span class=\"djtooltiptext\">(s) relative to session beginning</span>\n",
       "                            </div></th><th><div class=\"djtooltip\">\n",
       "                                <p id=\"nonprimary\">stop_time</p>\n",
       "                                <span class=\"djtooltiptext\">(s) relative to session beginning</span>\n",
       "                            </div> </th> </tr> </thead>\n",
       "                <tbody> <tr> <td>vIRt49</td>\n",
       "<td>1</td>\n",
       "<td>0</td>\n",
       "<td>hf wheel</td>\n",
       "<td>0</td>\n",
       "<td>0.0000</td>\n",
       "<td>372.6174</td></tr><tr><td>vIRt49</td>\n",
       "<td>1</td>\n",
       "<td>1</td>\n",
       "<td>hf wheel</td>\n",
       "<td>0</td>\n",
       "<td>372.6174</td>\n",
       "<td>431.5374</td></tr><tr><td>vIRt49</td>\n",
       "<td>1</td>\n",
       "<td>2</td>\n",
       "<td>hf wheel</td>\n",
       "<td>0</td>\n",
       "<td>431.5374</td>\n",
       "<td>479.5032</td> </tr> </tbody>\n",
       "            </table>\n",
       "            \n",
       "            <p>Total: 3</p></div>\n",
       "            "
      ],
      "text/plain": [
       "*subject_id    *session    *trial    task         task_protocol  start_time     stop_time    \n",
       "+------------+ +---------+ +-------+ +----------+ +------------+ +------------+ +-----------+\n",
       "vIRt49         1           0         hf wheel     0              0.0000         372.6174     \n",
       "vIRt49         1           1         hf wheel     0              372.6174       431.5374     \n",
       "vIRt49         1           2         hf wheel     0              431.5374       479.5032     \n",
       " (Total: 3)"
      ]
     },
     "execution_count": 41,
     "metadata": {},
     "output_type": "execute_result"
    }
   ],
   "source": [
    "experiment.BehaviorTrial * experiment.SessionTrial & session_key"
   ]
  },
  {
   "cell_type": "markdown",
   "metadata": {},
   "source": [
    "### fetch back the start and stop times of all trials in this session"
   ]
  },
  {
   "cell_type": "code",
   "execution_count": 70,
   "metadata": {},
   "outputs": [],
   "source": [
    "trial_starts, trial_stops = (experiment.BehaviorTrial * experiment.SessionTrial & session_key).fetch('start_time', 'stop_time')"
   ]
  },
  {
   "cell_type": "code",
   "execution_count": 43,
   "metadata": {},
   "outputs": [
    {
     "data": {
      "text/plain": [
       "array([Decimal('0.0000'), Decimal('372.6174'), Decimal('431.5374')],\n",
       "      dtype=object)"
      ]
     },
     "execution_count": 43,
     "metadata": {},
     "output_type": "execute_result"
    }
   ],
   "source": [
    "trial_starts"
   ]
  },
  {
   "cell_type": "code",
   "execution_count": 44,
   "metadata": {},
   "outputs": [
    {
     "data": {
      "text/plain": [
       "array([Decimal('372.6174'), Decimal('431.5374'), Decimal('479.5032')],\n",
       "      dtype=object)"
      ]
     },
     "execution_count": 44,
     "metadata": {},
     "output_type": "execute_result"
    }
   ],
   "source": [
    "trial_stops"
   ]
  },
  {
   "cell_type": "markdown",
   "metadata": {},
   "source": [
    "### extract the whisker angle data from the last trial only"
   ]
  },
  {
   "cell_type": "code",
   "execution_count": 71,
   "metadata": {},
   "outputs": [],
   "source": [
    "in_trial = np.logical_and(tracking_timestamps >= trial_starts[-1], tracking_timestamps < trial_stops[-1])"
   ]
  },
  {
   "cell_type": "code",
   "execution_count": 72,
   "metadata": {},
   "outputs": [],
   "source": [
    "trial_timestamps = tracking_timestamps[in_trial]\n",
    "trial_whisker = whisker_angles[1][in_trial]"
   ]
  },
  {
   "cell_type": "code",
   "execution_count": 73,
   "metadata": {},
   "outputs": [
    {
     "data": {
      "text/plain": [
       "array([431.538, 431.54 , 431.542, ..., 462.918, 462.92 , 462.922])"
      ]
     },
     "execution_count": 73,
     "metadata": {},
     "output_type": "execute_result"
    }
   ],
   "source": [
    "trial_timestamps"
   ]
  },
  {
   "cell_type": "code",
   "execution_count": 74,
   "metadata": {},
   "outputs": [
    {
     "data": {
      "text/plain": [
       "array([-65.57880402, -63.64982224, -63.00873947, ...,          nan,\n",
       "                nan,          nan])"
      ]
     },
     "execution_count": 74,
     "metadata": {},
     "output_type": "execute_result"
    }
   ],
   "source": [
    "trial_whisker"
   ]
  },
  {
   "cell_type": "code",
   "execution_count": 75,
   "metadata": {},
   "outputs": [
    {
     "data": {
      "text/plain": [
       "[<matplotlib.lines.Line2D at 0x1651db1b630>]"
      ]
     },
     "execution_count": 75,
     "metadata": {},
     "output_type": "execute_result"
    },
    {
     "data": {
      "image/png": "[encoded data removed]",
      "text/plain": [
       "<Figure size 432x288 with 1 Axes>"
      ]
     },
     "metadata": {
      "needs_background": "light"
     },
     "output_type": "display_data"
    }
   ],
   "source": [
    "plt.plot(trial_timestamps, trial_whisker)"
   ]
  },
  {
   "cell_type": "markdown",
   "metadata": {},
   "source": [
    "### extract the unit spiketimes from the last trial only"
   ]
  },
  {
   "cell_type": "code",
   "execution_count": 62,
   "metadata": {},
   "outputs": [],
   "source": [
    "units, spikes, waveforms = (ephys.Unit * ephys.Unit.Waveform & insertion_key).fetch('unit', 'spike_times', 'waveform')"
   ]
  },
  {
   "cell_type": "code",
   "execution_count": 53,
   "metadata": {},
   "outputs": [
    {
     "data": {
      "text/plain": [
       "array([ 1,  2,  3,  4,  5,  6,  7,  8,  9, 10, 11, 12, 13, 14, 15, 16, 17,\n",
       "       18, 19, 20, 21, 22, 23, 24, 25, 26, 27, 28, 29, 30, 31, 32, 33, 34,\n",
       "       35, 36, 37, 38, 39, 40, 41, 42, 43, 44, 45, 46, 47, 48, 49, 50, 51,\n",
       "       52, 53, 54, 55, 56, 57, 58, 59, 60, 61, 62, 63, 64, 65, 66, 67, 68,\n",
       "       69, 70, 71, 72, 73], dtype=int64)"
      ]
     },
     "execution_count": 53,
     "metadata": {},
     "output_type": "execute_result"
    }
   ],
   "source": [
    "units"
   ]
  },
  {
   "cell_type": "code",
   "execution_count": 79,
   "metadata": {},
   "outputs": [],
   "source": [
    "unit_spikes = spikes[5]  # select spike times from unit #5"
   ]
  },
  {
   "cell_type": "code",
   "execution_count": 80,
   "metadata": {},
   "outputs": [
    {
     "data": {
      "text/plain": [
       "array([2.55533333e-01, 2.82800000e-01, 3.16766667e-01, ...,\n",
       "       4.36291633e+02, 4.37879000e+02, 4.53534667e+02])"
      ]
     },
     "execution_count": 80,
     "metadata": {},
     "output_type": "execute_result"
    }
   ],
   "source": [
    "unit_spikes"
   ]
  },
  {
   "cell_type": "code",
   "execution_count": 81,
   "metadata": {},
   "outputs": [],
   "source": [
    "in_trial = np.logical_and(unit_spikes >= trial_starts[-1], unit_spikes < trial_stops[-1])"
   ]
  },
  {
   "cell_type": "code",
   "execution_count": 82,
   "metadata": {},
   "outputs": [],
   "source": [
    "trial_spikes = unit_spikes[in_trial]"
   ]
  },
  {
   "cell_type": "code",
   "execution_count": 83,
   "metadata": {},
   "outputs": [
    {
     "data": {
      "text/plain": [
       "array([432.71416667, 432.8324    , 432.8684    , 432.89853333,\n",
       "       432.92276667, 433.06416667, 436.29163333, 437.879     ,\n",
       "       453.53466667])"
      ]
     },
     "execution_count": 83,
     "metadata": {},
     "output_type": "execute_result"
    }
   ],
   "source": [
    "trial_spikes"
   ]
  },
  {
   "cell_type": "markdown",
   "metadata": {},
   "source": [
    "### PLOT"
   ]
  },
  {
   "cell_type": "code",
   "execution_count": 90,
   "metadata": {},
   "outputs": [
    {
     "data": {
      "text/plain": [
       "[<matplotlib.lines.Line2D at 0x16519e5c400>]"
      ]
     },
     "execution_count": 90,
     "metadata": {},
     "output_type": "execute_result"
    },
    {
     "data": {
      "image/png": "[encoded data removed]",
      "text/plain": [
       "<Figure size 1152x576 with 1 Axes>"
      ]
     },
     "metadata": {
      "needs_background": "light"
     },
     "output_type": "display_data"
    }
   ],
   "source": [
    "fig, ax = plt.subplots(1, 1, figsize=(16, 8))\n",
    "ax.plot(trial_timestamps, trial_whisker)\n",
    "ax.plot(trial_spikes, np.full_like(trial_spikes, np.nanmax(trial_whisker)), 'k*')"
   ]
  }
 ],
 "metadata": {
  "kernelspec": {
   "display_name": "Python 3",
   "language": "python",
   "name": "python3"
  },
  "language_info": {
   "codemirror_mode": {
    "name": "ipython",
    "version": 3
   },
   "file_extension": ".py",
   "mimetype": "text/x-python",
   "name": "python",
   "nbconvert_exporter": "python",
   "pygments_lexer": "ipython3",
   "version": "3.7.1"
  }
 },
 "nbformat": 4,
 "nbformat_minor": 2
}
